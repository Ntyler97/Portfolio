{
 "cells": [
  {
   "cell_type": "code",
   "execution_count": 1,
   "id": "d9fc5731",
   "metadata": {},
   "outputs": [],
   "source": [
    "# Import libraries \n",
    "\n",
    "from bs4 import BeautifulSoup\n",
    "import requests\n",
    "import time\n",
    "import datetime\n",
    "import pandas as pd\n",
    "import smtplib"
   ]
  },
  {
   "cell_type": "code",
   "execution_count": 2,
   "id": "8fe2544b",
   "metadata": {},
   "outputs": [
    {
     "name": "stdout",
     "output_type": "stream",
     "text": [
      "Funny Got Data MIS Data Systems Business Analyst T-Shirt\n",
      "$16.99\n",
      "                 \n",
      "\n",
      "\n",
      "                   $\n",
      "                  \n",
      "\n",
      "                   16\n",
      "                   \n",
      "                    .\n",
      "                   \n",
      "\n",
      "\n",
      "                   99\n",
      "4.8 out of 5 stars\n"
     ]
    }
   ],
   "source": [
    "# Connect to website and pull variables\n",
    "\n",
    "URL = 'https://www.amazon.com/Funny-Data-Systems-Business-Analyst/dp/B07FNW9FGJ'\n",
    "\n",
    "headers = {\"User-Agent\": \"Mozilla/5.0 (Windows NT 10.0; Win64; x64) AppleWebKit/537.36 (KHTML, like Gecko) Chrome/98.0.4758.102 Safari/537.36\", \"Accept-Encoding\":\"gzip, deflate\", \"Accept\":\"text/html,application/xhtml+xml,application/xml;q=0.9,*/*;q=0.8\", \"DNT\":\"1\",\"Connection\":\"close\", \"Upgrade-Insecure-Requests\":\"1\"}\n",
    "\n",
    "page = requests.get(URL, headers=headers)\n",
    "\n",
    "soup1 = BeautifulSoup(page.content, 'html.parser')\n",
    "\n",
    "soup2 = BeautifulSoup(soup1.prettify(), 'html.parser')\n",
    "\n",
    "title = soup2.find(id='productTitle').get_text().strip()\n",
    "price = soup2.find(id='corePriceDisplay_desktop_feature_div').get_text().strip()\n",
    "rating = soup2.find(id='acrPopover').get_text().strip()\n",
    "\n",
    "print(title)\n",
    "print(price)\n",
    "print(rating)"
   ]
  },
  {
   "cell_type": "code",
   "execution_count": 3,
   "id": "76b14916",
   "metadata": {},
   "outputs": [
    {
     "name": "stdout",
     "output_type": "stream",
     "text": [
      "Funny Got Data MIS Data Systems Business Analyst T-Shirt\n",
      "16.99\n",
      "4.8 out of 5 stars\n"
     ]
    }
   ],
   "source": [
    "# Clean pricing data\n",
    "\n",
    "decimal = price.index('.')\n",
    "clean_price = price[1:decimal + 3]\n",
    "\n",
    "print(title)\n",
    "print(clean_price)\n",
    "print(rating)"
   ]
  },
  {
   "cell_type": "code",
   "execution_count": 4,
   "id": "f51aca01",
   "metadata": {},
   "outputs": [
    {
     "name": "stdout",
     "output_type": "stream",
     "text": [
      "2022-02-28\n"
     ]
    }
   ],
   "source": [
    "# Create timestamp data\n",
    "\n",
    "today= datetime.date.today()\n",
    "\n",
    "print(today)"
   ]
  },
  {
   "cell_type": "code",
   "execution_count": 5,
   "id": "b4f2bc70",
   "metadata": {},
   "outputs": [],
   "source": [
    "# Create CSV and write headers and data into the file\n",
    "\n",
    "import csv\n",
    "\n",
    "header = ['Product Name', 'Price', 'Rating', 'Date']\n",
    "data = [title, clean_price, rating, today]\n",
    "\n",
    "with open('AmazonWebScraperDataset.csv', 'w', newline='', encoding='UTF8') as f:\n",
    "    writer = csv.writer(f)\n",
    "    writer.writerow(header)\n",
    "    writer.writerow(data)"
   ]
  },
  {
   "cell_type": "code",
   "execution_count": 6,
   "id": "d8c5c582",
   "metadata": {},
   "outputs": [
    {
     "data": {
      "text/html": [
       "<div>\n",
       "<style scoped>\n",
       "    .dataframe tbody tr th:only-of-type {\n",
       "        vertical-align: middle;\n",
       "    }\n",
       "\n",
       "    .dataframe tbody tr th {\n",
       "        vertical-align: top;\n",
       "    }\n",
       "\n",
       "    .dataframe thead th {\n",
       "        text-align: right;\n",
       "    }\n",
       "</style>\n",
       "<table border=\"1\" class=\"dataframe\">\n",
       "  <thead>\n",
       "    <tr style=\"text-align: right;\">\n",
       "      <th></th>\n",
       "      <th>Product Name</th>\n",
       "      <th>Price</th>\n",
       "      <th>Rating</th>\n",
       "      <th>Date</th>\n",
       "    </tr>\n",
       "  </thead>\n",
       "  <tbody>\n",
       "    <tr>\n",
       "      <th>0</th>\n",
       "      <td>Funny Got Data MIS Data Systems Business Analy...</td>\n",
       "      <td>16.99</td>\n",
       "      <td>4.8 out of 5 stars</td>\n",
       "      <td>2022-02-28</td>\n",
       "    </tr>\n",
       "  </tbody>\n",
       "</table>\n",
       "</div>"
      ],
      "text/plain": [
       "                                        Product Name  Price  \\\n",
       "0  Funny Got Data MIS Data Systems Business Analy...  16.99   \n",
       "\n",
       "               Rating        Date  \n",
       "0  4.8 out of 5 stars  2022-02-28  "
      ]
     },
     "execution_count": 6,
     "metadata": {},
     "output_type": "execute_result"
    }
   ],
   "source": [
    "# View CSV\n",
    "\n",
    "df = pd.read_csv(r'C:\\Users\\ntyle\\AmazonWebScraperDataset.csv')\n",
    "\n",
    "df"
   ]
  },
  {
   "cell_type": "code",
   "execution_count": 7,
   "id": "0a30058e",
   "metadata": {},
   "outputs": [],
   "source": [
    "# Append data to CSV\n",
    "\n",
    "with open('AmazonWebScraperDataset.csv', 'a+', newline='', encoding='UTF8') as f:\n",
    "    writer = csv.writer(f)\n",
    "    writer.writerow(data)"
   ]
  },
  {
   "cell_type": "code",
   "execution_count": 8,
   "id": "211b5518",
   "metadata": {},
   "outputs": [],
   "source": [
    "# Create function that notifies user if there is a price drop\n",
    "\n",
    "def send_mail():\n",
    "    server = smtplib.SMTP_SSL('smtp.gmail.com',465)\n",
    "    server.ehlo()\n",
    "    #server.starttls()\n",
    "    server.ehlo()\n",
    "    server.login('ntyler322@gmail.com','xxxxxxxxxxxxxx')\n",
    "    \n",
    "    subject = \"Python Code has detected a price drop!\"\n",
    "    body = \"Your code has detected a price drop! Link here: https://www.amazon.com/Funny-Data-Systems-Business-Analyst/dp/B07FNW9FGJ\"\n",
    "   \n",
    "    msg = f\"Subject: {subject}\\n\\n{body}\"\n",
    "    \n",
    "    server.sendmail(\n",
    "        'ntyler322@gmail.com',\n",
    "        msg   \n",
    "    )"
   ]
  },
  {
   "cell_type": "code",
   "execution_count": 14,
   "id": "f7c2b8ca",
   "metadata": {},
   "outputs": [],
   "source": [
    "# Create custom function using above code\n",
    "\n",
    "def check_price():\n",
    "    URL = 'https://www.amazon.com/Funny-Data-Systems-Business-Analyst/dp/B07FNW9FGJ'\n",
    "    headers = {\"User-Agent\": \"Mozilla/5.0 (Windows NT 10.0; Win64; x64) AppleWebKit/537.36 (KHTML, like Gecko) Chrome/98.0.4758.102 Safari/537.36\", \"Accept-Encoding\":\"gzip, deflate\", \"Accept\":\"text/html,application/xhtml+xml,application/xml;q=0.9,*/*;q=0.8\", \"DNT\":\"1\",\"Connection\":\"close\", \"Upgrade-Insecure-Requests\":\"1\"}\n",
    "    page = requests.get(URL, headers=headers)\n",
    "\n",
    "    soup1 = BeautifulSoup(page.content, 'html.parser')\n",
    "    soup2 = BeautifulSoup(soup1.prettify(), 'html.parser')\n",
    "\n",
    "    title = soup2.find(id='productTitle').get_text().strip()\n",
    "    price = soup2.find(id='corePriceDisplay_desktop_feature_div').get_text().strip()\n",
    "    rating = soup2.find(id='acrPopover').get_text().strip()\n",
    "    \n",
    "    decimal = price.index('.')\n",
    "    clean_price = price[1:decimal + 3]\n",
    "    \n",
    "    today= datetime.date.today()\n",
    "\n",
    "    header = ['Product Name', 'Price', 'Rating', 'Date']\n",
    "    data = [title, clean_price, rating, today]\n",
    "    \n",
    "    with open('AmazonWebScraperDataset.csv', 'a+', newline='', encoding='UTF8') as f:\n",
    "        writer = csv.writer(f)\n",
    "        writer.writerow(data)\n",
    "        \n",
    "    if (float(clean_price) < 16.99):\n",
    "        send_mail()"
   ]
  },
  {
   "cell_type": "code",
   "execution_count": null,
   "id": "ddf289b9",
   "metadata": {},
   "outputs": [],
   "source": [
    "# Run check_price every 24hrs and input data into your CSV\n",
    "\n",
    "while(True):\n",
    "    check_price()\n",
    "    time.sleep(86400)"
   ]
  }
 ],
 "metadata": {
  "kernelspec": {
   "display_name": "Python 3 (ipykernel)",
   "language": "python",
   "name": "python3"
  },
  "language_info": {
   "codemirror_mode": {
    "name": "ipython",
    "version": 3
   },
   "file_extension": ".py",
   "mimetype": "text/x-python",
   "name": "python",
   "nbconvert_exporter": "python",
   "pygments_lexer": "ipython3",
   "version": "3.9.7"
  }
 },
 "nbformat": 4,
 "nbformat_minor": 5
}
